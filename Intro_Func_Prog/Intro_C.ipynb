{
  "nbformat": 4,
  "nbformat_minor": 0,
  "metadata": {
    "colab": {
      "provenance": [],
      "collapsed_sections": [
        "ee_xPVOD8w6q",
        "VMq1isIb_ZMT",
        "o6xuuzRV_gjS",
        "GBcECu8g_goX",
        "__sqt5Yj_guD",
        "Ap3HJHLZ_gzA",
        "8cLglDCKDKfX",
        "aJeNikt7DKhv",
        "xLgU_hnMJHgX",
        "HpS1jNsYJHlm",
        "LTH2-tXrJHqk",
        "3KRr9MIxJHvf",
        "J2_Fzw5wJHxS",
        "-B1pjQ1ddZYa",
        "rmOikQUAdZfu",
        "RQ8Lh5hrtr1w",
        "MhqCJ-CBpKOO",
        "xBy12dThpKTf",
        "Q_5n7AnrvNpH",
        "0hjJTj0svNr2",
        "Kp_l9XbeCtKd",
        "2pMARX-O2qcz",
        "1Avvptw6-GCn",
        "hk1LGkzs-J6Z",
        "nQvKemSg-PUE",
        "MUkvsQlF-PZB",
        "0QSRhXv8_qg3",
        "u7ExHNgYrbU_",
        "h40l4bTQsYQa",
        "z_lzC4rOsZVK",
        "J5Km5ai2sZbY",
        "de8WjcigBTid",
        "YHwhP2-7BciW",
        "FiCAe9zvsvrU",
        "xcZIZCZXOKQL",
        "dlyxxwHPOShq",
        "ASgzq2mfGMQK",
        "VxJLDWEKGMVU",
        "vObLwJYeGMX-",
        "CluVTGDuGMdD",
        "q1QY5HbiGMoK",
        "XwUg_MuFLwIT",
        "R8S04v5HL1ai",
        "Mls6BdK9R1cP"
      ]
    },
    "kernelspec": {
      "name": "python3",
      "display_name": "Python 3"
    },
    "language_info": {
      "name": "python"
    }
  },
  "cells": [
    {
      "cell_type": "markdown",
      "source": [
        "**Content Produced by UF Signal Processing Society**\n",
        "\n",
        "**Authors: Raul Valle**"
      ],
      "metadata": {
        "id": "-dgZNJfQ8YkO"
      }
    },
    {
      "cell_type": "markdown",
      "source": [
        "# Intro to C Programming"
      ],
      "metadata": {
        "id": "ctx2SJI28crz"
      }
    },
    {
      "cell_type": "markdown",
      "source": [
        "We will learn about C programming, a bit about its history, and why it is so important."
      ],
      "metadata": {
        "id": "TrDbhs3L8j4L"
      }
    },
    {
      "cell_type": "markdown",
      "source": [
        "## Acknowledgements"
      ],
      "metadata": {
        "id": "ee_xPVOD8w6q"
      }
    },
    {
      "cell_type": "markdown",
      "source": [
        "First, I'd like to thank Dennis Ritchie for creating the most influential, and arguably the most important programming language today.\n",
        "\n",
        "I'd like to thank UF and SPS for their interest in this student organization, giving everyone a platform to share their knowledge and resources.\n",
        "\n",
        "Finally, I'd like to personally thank Dr. Silva, Dr. Principe, Dr. Wong, Dr. Shea, Benjamin Colburn, Matheus Kunzler Maldaner and Evan Partidas for their continual support in my academic journey."
      ],
      "metadata": {
        "id": "3Fabq3iN81Ms"
      }
    },
    {
      "cell_type": "markdown",
      "source": [
        "## Introduction"
      ],
      "metadata": {
        "id": "HlTS28nK-CB0"
      }
    },
    {
      "cell_type": "markdown",
      "source": [
        "We are currently using a Jupyter Notebook which was developed to support Python programming - while it is possible to integrate C/C++ into a notebook, it is more meaningful helping students set-up their environments locally for future development.\n",
        "\n",
        "Therefore, any important notes will be documented in this Notebook, however compiling and running a program will be done locally.\n",
        "\n",
        "---\n",
        "\n",
        "\n",
        "The C programming language has a rich history that dates back to the early 1970s. It was developed by Dennis Ritchie at Bell Labs as an evolution of the B language, which itself was influenced by the BCPL language. The primary goal of C was to provide a language that could be used for system programming, particularly for the development of the Unix operating system.\n",
        "\n",
        "Despite being so old, C continues to be the cornerstone of software development because it is:\n",
        "\n",
        "1. Foundation of Modern Programming Languages\n",
        "\n",
        "2. System Programming Language of Choice\n",
        "\n",
        "3. Energy Efficient & Performant\n",
        "\n",
        "4. Portable & Flexible"
      ],
      "metadata": {
        "id": "uom_2yDB-E_T"
      }
    },
    {
      "cell_type": "markdown",
      "source": [
        "## 1. Pre-requisites"
      ],
      "metadata": {
        "id": "VMq1isIb_ZMT"
      }
    },
    {
      "cell_type": "markdown",
      "source": [
        "For simplicity, we advise using a Linux distribution when following along in this workshop, this workshop was created with *Ubuntu*.\n",
        "\n",
        "If you are using Windows or Mac, good luck."
      ],
      "metadata": {
        "id": "NGnZ9t58_dON"
      }
    },
    {
      "cell_type": "markdown",
      "source": [
        "### 1.0. Install VSCode (Optional)"
      ],
      "metadata": {
        "id": "o6xuuzRV_gjS"
      }
    },
    {
      "cell_type": "markdown",
      "source": [
        "VSCode is a well-organized code-editor, while it may seem overwhelming at first, there are many great features (especially GitHub Copilot).\n",
        "\n",
        "In Ubuntu, you should open a terminal and enter:\n",
        "\n",
        "```sudo snap isntall --classic code```\n",
        "\n",
        "This will install VSCode.\n",
        "\n",
        "Next, open VSCode and make sure to install the \"C/C++\" extension by *Microsoft*, you should be able to navigate the left tabs for an \"Extension\" tab, or hold Ctrl + Shift + X.\n",
        "\n",
        "Finally, make sure to configure VSCode for C Compilation. You should:\n",
        "\n",
        "1. Go to Terminal > Configure Default Build Task...\n",
        "2. Select Create tasks.json file from template.\n",
        "3. Select Others.\n",
        "\n",
        "The tasks.json file should resemble:\n",
        "\n",
        "```\n",
        "{\n",
        "    \"version\": \"2.0.0\",\n",
        "    \"tasks\": [\n",
        "        {\n",
        "            \"label\": \"build\",\n",
        "            \"type\": \"shell\",\n",
        "            \"command\": \"/usr/bin/gcc\",\n",
        "            \"args\": [\n",
        "                \"-g\",\n",
        "                \"${file}\",\n",
        "                \"-o\",\n",
        "                \"${fileDirname}/${fileBasenameNoExtension}\"\n",
        "            ],\n",
        "            \"group\": {\n",
        "                \"kind\": \"build\",\n",
        "                \"isDefault\": true\n",
        "            },\n",
        "            \"problemMatcher\": [\"$gcc\"],\n",
        "            \"detail\": \"Generated task by user.\"\n",
        "        }\n",
        "    ]\n",
        "}\n",
        "```"
      ],
      "metadata": {
        "id": "l2Ja5eaM_gl-"
      }
    },
    {
      "cell_type": "markdown",
      "source": [
        "### 1.1. Install GCC"
      ],
      "metadata": {
        "id": "GBcECu8g_goX"
      }
    },
    {
      "cell_type": "markdown",
      "source": [
        "In the terminal enter:\n",
        "\n",
        "``` sudo apt update ```\n",
        "\n",
        "``` sudo apt install build-essential ```\n",
        "\n",
        "Which will install the *GNU Compiler Collection* (GCC) to compile C programs."
      ],
      "metadata": {
        "id": "8n3pGQmj_grX"
      }
    },
    {
      "cell_type": "markdown",
      "source": [
        "### 1.2. Create a Project Folder"
      ],
      "metadata": {
        "id": "__sqt5Yj_guD"
      }
    },
    {
      "cell_type": "markdown",
      "source": [
        "If you've done projects with SPS before, you might have a folder already - if you have a folder already, this works too.\n",
        "\n",
        "To create a new folder:\n",
        "\n",
        "``` mkdir ~/path/to/folder ```"
      ],
      "metadata": {
        "id": "x_x9qdpE_gwr"
      }
    },
    {
      "cell_type": "markdown",
      "source": [
        "### 1.3. Create a C File"
      ],
      "metadata": {
        "id": "Ap3HJHLZ_gzA"
      }
    },
    {
      "cell_type": "markdown",
      "source": [
        "Just create a file and save it with a '.c' extension.\n",
        "\n",
        "In the terminal:\n",
        "\n",
        "``` touch filename.c ```"
      ],
      "metadata": {
        "id": "FykuZPE5DKUv"
      }
    },
    {
      "cell_type": "markdown",
      "source": [
        "### 1.4. Run the C File"
      ],
      "metadata": {
        "id": "GP69j32JDKaL"
      }
    },
    {
      "cell_type": "markdown",
      "source": [
        "When you are ready to build and run your file:\n",
        "\n",
        "``` gcc filename.c -o executable ```\n",
        "\n",
        "This function will compile your C program and create an executable file.\n",
        "\n",
        "``` ./executable ```\n",
        "\n",
        "Will run the executable."
      ],
      "metadata": {
        "id": "qbBMPg7oDKcu"
      }
    },
    {
      "cell_type": "markdown",
      "source": [
        "## 2. Syntax and Structure"
      ],
      "metadata": {
        "id": "8cLglDCKDKfX"
      }
    },
    {
      "cell_type": "markdown",
      "source": [
        "### 2.1. Comments"
      ],
      "metadata": {
        "id": "aJeNikt7DKhv"
      }
    },
    {
      "cell_type": "markdown",
      "source": [
        "The most impactful thing you can include in your code are comments.\n",
        "\n",
        "When we create sophisticated programs, it is easy to forget, misremember, and misinterpret your own code - for this reason, writing meaningful comments can help your program be interpretable to others, but most importantly YOURSELF.\n",
        "\n",
        "We won't argue what the correct way to comment is, but my approach is:\n",
        "\n",
        "```\n",
        "// Brief Comment about a program process or choice\n",
        "\n",
        "/*\n",
        "Descriptive Comment about\n",
        "\n",
        "INPUTS:\n",
        "-------\n",
        "OUTPUTS:\n",
        "-------\n",
        "PROCESSES:\n",
        "-------\n",
        "EXAMPLE:\n",
        "-------\n",
        "*/\n",
        "\n",
        "```"
      ],
      "metadata": {
        "id": "rWn2NoVRDKjs"
      }
    },
    {
      "cell_type": "markdown",
      "source": [
        "### 2.2. Basic Data"
      ],
      "metadata": {
        "id": "xLgU_hnMJHgX"
      }
    },
    {
      "cell_type": "markdown",
      "source": [
        "To create a meaningful program, we need to represent different values. To do this, the *Primitive* Data types are:\n",
        "\n",
        "```int```: a 32 bit integer\n",
        "\n",
        "```char```: an 8 bit integer (often used for representing characters)\n",
        "\n",
        "```float```: a 32 bit *floating-point* decimal number\n",
        "\n",
        "```double```: a 64 bit *floating-point* decimal number\n",
        "\n",
        "There are also *Modifiers* to change the size or kind of data type:\n",
        "\n",
        "```short``` and ```long```: change the number of bits used to represent a number.\n",
        "\n",
        "```unsigned``` and ```signed```: change the number's ability to represent a negative value.\n",
        "\n",
        "To allocate data, we need to specify the data type along with any modifiers:\n",
        "\n",
        "``` modifier type data;```\n",
        "\n",
        "To assign data, we can simply write:\n",
        "\n",
        "``` data = x;```\n",
        "\n",
        "or\n",
        "\n",
        "``` modifier type data = x; ```\n",
        "\n",
        "To ensure that the data is read-only:\n",
        "\n",
        "``` const type data = x; ```\n",
        "\n",
        "Finally, make sure to not use reserved key-words to name your program data."
      ],
      "metadata": {
        "id": "dhcb9XF2JHi-"
      }
    },
    {
      "cell_type": "markdown",
      "source": [
        "### 2.3. Basic Data Manipulation"
      ],
      "metadata": {
        "id": "HpS1jNsYJHlm"
      }
    },
    {
      "cell_type": "markdown",
      "source": [
        "To interact with the program values, *expressions* use *operators*. The *expression* value can then be used for more complex program processes.\n",
        "\n",
        "Arithmetic Operators:\n",
        "\n",
        "    +, -, *, /, %.\n",
        "\n",
        "Relational Operators:\n",
        "\n",
        "    ==, !=, >, <, >=, <=.\n",
        "\n",
        "Logical Operators:\n",
        "\n",
        "    &&, ||, !.\n",
        "\n",
        "Bitwise Operators:\n",
        "\n",
        "    &, |, ^, ~, <<, >>.\n",
        "\n",
        "Assignment Operators:\n",
        "\n",
        "    =, +=, -=, *=, /=, %=.\n",
        "\n",
        "Miscellaneous Operators:\n",
        "\n",
        "    sizeof, conditional (?:).\n",
        "\n"
      ],
      "metadata": {
        "id": "enbzizOUJHoG"
      }
    },
    {
      "cell_type": "markdown",
      "source": [
        "### 2.4. Control Structures"
      ],
      "metadata": {
        "id": "LTH2-tXrJHqk"
      }
    },
    {
      "cell_type": "markdown",
      "source": [
        "Conditional Statements can be expressed using if-else statements:\n",
        "\n",
        "```\n",
        "if (condition1) {\n",
        "  // condition1 code\n",
        "}\n",
        "else if (condition2) {\n",
        "  // condition2 code\n",
        "}\n",
        "else {\n",
        "  // default code\n",
        "}\n",
        "```\n",
        "\n",
        "They can also be expressed with switch-case statements:\n",
        "\n",
        "```\n",
        "switch (expression) {\n",
        "  case condition1:\n",
        "    // condtion 1 code\n",
        "    break;\n",
        "  case condition2:\n",
        "    // condition 2 code\n",
        "    break;\n",
        "  default:\n",
        "    // default code\n",
        "}\n",
        "```\n",
        "\n",
        "Loops can be expressed with a for statement:\n",
        "\n",
        "```\n",
        "for (initialization; condition; manipulation){\n",
        "  // looped code\n",
        "}\n",
        "```\n",
        "\n",
        "They can also be expressed with a while statement:\n",
        "\n",
        "```\n",
        "while (condition) {\n",
        "  // looped code\n",
        "}\n",
        "```\n",
        "\n",
        "Or a do-while statement:\n",
        "\n",
        "```\n",
        "do {\n",
        "    // looped code\n",
        "} while (condition);\n",
        "\n",
        "```\n",
        "\n",
        "Loops can be controlled by combining conditional statements and keywords:\n",
        "\n",
        "```\n",
        "while (main_condition) {\n",
        "  // looped code pre-conditionals\n",
        "  if (break_condition) {\n",
        "    // break code\n",
        "    break;\n",
        "  }\n",
        "  else if(continue_condition) {\n",
        "    // continue code\n",
        "    continue;\n",
        "  }\n",
        "  // looped code post-conditionals\n",
        "}\n",
        "```\n"
      ],
      "metadata": {
        "id": "y45DagW0JHtN"
      }
    },
    {
      "cell_type": "markdown",
      "source": [
        "## 3. Functions"
      ],
      "metadata": {
        "id": "3KRr9MIxJHvf"
      }
    },
    {
      "cell_type": "markdown",
      "source": [
        "#### 3.0. Motivation"
      ],
      "metadata": {
        "id": "J2_Fzw5wJHxS"
      }
    },
    {
      "cell_type": "markdown",
      "source": [
        "The benefit of programming is that many computer processes are either repetitive in nature or logically-addressable (or both). Functions are a way to abstract the computing in a way that is easy to read and use for the programmer."
      ],
      "metadata": {
        "id": "18eX5jY_dZJ_"
      }
    },
    {
      "cell_type": "markdown",
      "source": [
        "#### 3.1. Function Definition & Declaration"
      ],
      "metadata": {
        "id": "-B1pjQ1ddZYa"
      }
    },
    {
      "cell_type": "markdown",
      "source": [
        "To declare (or prototype) a function:\n",
        "\n",
        "```\n",
        "returnType functionName(parameterType1 parameter1, parameterType2 parameter2, ...);\n",
        "```\n",
        "\n",
        "This tells the compiler information about the function before it is defined. It is good practice to put this in a *header file*, with other prototypes.\n",
        "\n",
        "To define a function:\n",
        "\n",
        "```\n",
        "returnType functionName(parameterType1 parameter1, parameterType2 parameter2, ...) {\n",
        "    // Function body\n",
        "}\n",
        "```\n",
        "\n",
        "To call a function:\n",
        "\n",
        "```\n",
        "\\\\ pre-function code\n",
        "functionName(arg1, arg2, ...);\n",
        "\\\\ post-function code\n",
        "```"
      ],
      "metadata": {
        "id": "32FPjnv6dZb7"
      }
    },
    {
      "cell_type": "markdown",
      "source": [
        "### 3.2. Scope and Lifetime of Variables"
      ],
      "metadata": {
        "id": "rmOikQUAdZfu"
      }
    },
    {
      "cell_type": "markdown",
      "source": [
        "#### 3.2.1. Scope"
      ],
      "metadata": {
        "id": "RQ8Lh5hrtr1w"
      }
    },
    {
      "cell_type": "markdown",
      "source": [
        "Local variables are declared inside a function - they are only accessible within the function where they are declared:\n",
        "\n",
        "```\n",
        "void func() {\n",
        "  type localVar = x;\n",
        "}\n",
        "```\n",
        "\n",
        "Global variables are declared outside of all functions - they are accessible by any function within the same file:\n",
        "\n",
        "```\n",
        "type globalVar = x;\n",
        "void func() {\n",
        "  type localVar = globalVar;\n",
        "}\n",
        "```"
      ],
      "metadata": {
        "id": "oK8GJAWVpJ-M"
      }
    },
    {
      "cell_type": "markdown",
      "source": [
        "#### 3.2.3. Static Variables"
      ],
      "metadata": {
        "id": "MhqCJ-CBpKOO"
      }
    },
    {
      "cell_type": "markdown",
      "source": [
        "Static variables are declared inside or outside of functions.\n",
        "\n",
        "*Local Static* variables retain their values through function calls. Consider the following example:\n",
        "\n",
        "```\n",
        "void countCalls() {\n",
        "    static int count = 0; // Static local variable\n",
        "    count++;\n",
        "}\n",
        "\n",
        "int main() {\n",
        "    countCalls();\n",
        "    countCalls();\n",
        "}\n",
        "```\n",
        "\n",
        "When used by another function, count would have a value of 2.\n",
        "\n",
        "*Global Static* variables retain their values throughout their current file. Consider the following example:\n",
        "\n",
        "```\n",
        "static int counter = 0; // Static global variable\n",
        "void incrementCounter() {\n",
        "    counter++;\n",
        "}\n",
        "\n",
        "int main() {\n",
        "    incrementCounter();\n",
        "    return 0;\n",
        "}\n",
        "```\n",
        "\n",
        "The value of counter would be 1 - this is used to restrict the variables visibility which prevents name conflicts."
      ],
      "metadata": {
        "id": "2n6DlCWwpKRD"
      }
    },
    {
      "cell_type": "markdown",
      "source": [
        "### 3.3. Recursive Functions"
      ],
      "metadata": {
        "id": "xBy12dThpKTf"
      }
    },
    {
      "cell_type": "markdown",
      "source": [
        "Recursive functions are a special type of function which call themselves to solve problems by a divide-and-conquer approach.\n",
        "\n",
        "Typically there is a trade-off between time and memory that can be used to justify this use of recursive functions, however we won't dive further into algorithm analysis for the sake of time. Consider:\n",
        "\n",
        "```\n",
        "int factorial(int var) {\n",
        "  if (var <= 1) return 1;\n",
        "  else return var*factorial(var-1);\n",
        "}\n",
        "```"
      ],
      "metadata": {
        "id": "RYNTs31upgJV"
      }
    },
    {
      "cell_type": "markdown",
      "source": [
        "## 4. Data Structures"
      ],
      "metadata": {
        "id": "Q_5n7AnrvNpH"
      }
    },
    {
      "cell_type": "markdown",
      "source": [
        "### 4.1. Arrays"
      ],
      "metadata": {
        "id": "0hjJTj0svNr2"
      }
    },
    {
      "cell_type": "markdown",
      "source": [
        "Arrays are a data structure which organizes data into easily-indexable data. The following is how to declare an array and initialize an entry.\n",
        "\n",
        "```\n",
        "type typeArray[length];\n",
        "typeArray[0] = x;\n",
        "// ...\n",
        "```\n",
        "\n",
        "Arrays can also be organized into multiple dimensions. Consider:\n",
        "\n",
        "```\n",
        "type typeMatrix[maxRows][maxCols];\n",
        "typeMatrix[0][0] = x;\n",
        "// ...\n",
        "```\n",
        "\n",
        "Strings are a special case of array, specifically:\n",
        "\n",
        "```\n",
        "char strExample[length];\n",
        "strExample[0] = 'A';\n",
        "// ...\n",
        "strExample[length-1] = '\\0';\n",
        "```"
      ],
      "metadata": {
        "id": "XvThbeIWvNuY"
      }
    },
    {
      "cell_type": "markdown",
      "source": [
        "### 4.2. Structures"
      ],
      "metadata": {
        "id": "Kp_l9XbeCtKd"
      }
    },
    {
      "cell_type": "markdown",
      "source": [
        "Structures are a collection of variables grouped under a single name.\n",
        "\n",
        "```\n",
        "struct StructureName {\n",
        "  dataType1 x;\n",
        "  dataType1 y;\n",
        "  dataType2 z;\n",
        "  // ...\n",
        "};\n",
        "\n",
        "```\n",
        "\n",
        "Structures can be nested (child/parent relationships).\n",
        "\n",
        "```\n",
        "struct ChildName {\n",
        "  dataType x;\n",
        "};\n",
        "\n",
        "struct ParentName {\n",
        "  dataType x;\n",
        "  struct ChildName child;\n",
        "};\n",
        "```\n",
        "\n",
        "Unions are also a collection of variables grouped under a signle name, but the memory allocated to them is equivalent to the single largest member.\n",
        "\n",
        "```\n",
        "union UnionName {\n",
        "    dataType1 member1;\n",
        "    dataType2 member2;\n",
        "    // ...\n",
        "};\n",
        "```"
      ],
      "metadata": {
        "id": "VHht3JNpCwEi"
      }
    },
    {
      "cell_type": "markdown",
      "source": [
        "## 5. Pointers"
      ],
      "metadata": {
        "id": "2pMARX-O2qcz"
      }
    },
    {
      "cell_type": "markdown",
      "source": [
        "### 5.0. Motivation"
      ],
      "metadata": {
        "id": "1Avvptw6-GCn"
      }
    },
    {
      "cell_type": "markdown",
      "source": [
        "Pointers are variables that point at a memory address. These are particularly useful when memory management in a system is necessary.\n",
        "\n",
        "First, the most important notation relates to the usage of the '*' and the '&'.\n",
        "\n",
        "The '&' Operator is known as the 'address-of' operator, which is used to get the memory address of a variable.\n",
        "\n",
        "```\n",
        "type data = x;\n",
        "type* dataPtr = &num;\n",
        "type** dataPtrPtr = &dataPtr;\n",
        "// ...\n",
        "```\n",
        "\n",
        "The '*' Operator is known as the 'dereference' operator, which is used to access the value stored at the memory address pointed to by a pointer.\n",
        "\n",
        "```\n",
        "type data = x;\n",
        "type* ptr = &data;\n",
        "type data = *ptr;\n",
        "```\n",
        "\n",
        "When interacting with pointers (and memory), the most essential functions are:"
      ],
      "metadata": {
        "id": "7XFqx_Dt2qfZ"
      }
    },
    {
      "cell_type": "markdown",
      "source": [
        "### 5.1. Memory Allocation"
      ],
      "metadata": {
        "id": "hk1LGkzs-J6Z"
      }
    },
    {
      "cell_type": "markdown",
      "source": [
        "This allocates a specified number of bytes and returns a pointer to the first byte in the allocated memory:\n",
        "\n",
        "``` void* malloc(size_t size);```\n",
        "\n",
        "Example:\n",
        "\n",
        "``` int* ptr = (int*)malloc(5*sizeof(int))```\n",
        "\n",
        "* Note how the above example allocates memory for 5 integers (much like an array)"
      ],
      "metadata": {
        "id": "uDnrNdIZ-PRl"
      }
    },
    {
      "cell_type": "markdown",
      "source": [
        "### 5.2. Contiguous Allocation"
      ],
      "metadata": {
        "id": "nQvKemSg-PUE"
      }
    },
    {
      "cell_type": "markdown",
      "source": [
        "This allocates memory for a specified amount of array elements, initializes the elements to 0, and returns a pointer to the first byte in the allocated memory:\n",
        "\n",
        "```\n",
        "void* calloc(size_t num, size_t size);\n",
        "```\n",
        "\n",
        "Example:\n",
        "\n",
        "```\n",
        "int* ptr = (int*)calloc(5,sizeof(int));\n",
        "```"
      ],
      "metadata": {
        "id": "PS0Ai3CQ-PWq"
      }
    },
    {
      "cell_type": "markdown",
      "source": [
        "### 5.3. Re-Allocation"
      ],
      "metadata": {
        "id": "MUkvsQlF-PZB"
      }
    },
    {
      "cell_type": "markdown",
      "source": [
        "This re-sizes the memory block pointed to by the pointer to a new size:\n",
        "\n",
        "```\n",
        "void* realloc(void* ptr, size_t newSize);\n",
        "```\n",
        "\n",
        "Example:\n",
        "\n",
        "```\n",
        "ptr = (int*)realloc(ptr, 10*sizeof(int));\n",
        "```"
      ],
      "metadata": {
        "id": "LHaLP0OS-PbO"
      }
    },
    {
      "cell_type": "markdown",
      "source": [
        "### 5.4. Memory De-Allocation"
      ],
      "metadata": {
        "id": "0QSRhXv8_qg3"
      }
    },
    {
      "cell_type": "markdown",
      "source": [
        "The details requiring de-allocation of memory are out of the scope of this workshop (stay tuned for the Intro to Operating Systems Workshop), however note that not free-ing memory can lead to *Memory Leaks* which can reduce system performance until the program runs out of available memory.\n",
        "\n",
        "To free memory:\n",
        "\n",
        "```\n",
        "void free(void* ptr);\n",
        "```\n",
        "\n",
        "Example:\n",
        "```\n",
        "free(ptr);\n",
        "ptr = NULL; //Avoid dangling pointer\n",
        "```"
      ],
      "metadata": {
        "id": "Nr_aac24_qjm"
      }
    },
    {
      "cell_type": "markdown",
      "source": [
        "## 6. Advanced Data Structures"
      ],
      "metadata": {
        "id": "HTQSArhEnjsW"
      }
    },
    {
      "cell_type": "markdown",
      "source": [
        "### 6.0. Motivation"
      ],
      "metadata": {
        "id": "3dScALQ2n5Ql"
      }
    },
    {
      "cell_type": "markdown",
      "source": [
        "Using Advanced Data Structures is important for many tasks - actually, the Linux Kernel uses Advanced Data Structures regularly. We won't dive into how the Operating System works, but we will discuss some common Data Structures and how they work.\n",
        "\n"
      ],
      "metadata": {
        "id": "-2kjGv0jn9p7"
      }
    },
    {
      "cell_type": "markdown",
      "source": [
        "### 6.1. Linked Lists (& Variants)"
      ],
      "metadata": {
        "id": "u7ExHNgYrbU_"
      }
    },
    {
      "cell_type": "markdown",
      "source": [
        "#### 6.1.1. Singly-Linked List"
      ],
      "metadata": {
        "id": "h40l4bTQsYQa"
      }
    },
    {
      "cell_type": "markdown",
      "source": [
        "A singly linked list is a type of list, where each element is 'linked' to the next element in the list. The general form of this structure is:\n",
        "\n",
        "```\n",
        "// SLL = SinglyLinkedList\n",
        "\n",
        "struct SLLNode {\n",
        "  type data;\n",
        "  struct SLLNode* next;\n",
        "};\n",
        "\n",
        "struct SLLNode* createNode(type data) {\n",
        "  struct SLLNode* newNode = (struct SLLNode*)malloc(sizeof(struct SLLNode));\n",
        "  newNode->data = data;\n",
        "  newNode->next = NULL;\n",
        "  return newNode;\n",
        "}\n",
        "\n",
        "void insertAtBeginning(struct SLLNode** head, type data) {\n",
        "    struct SLLNode* newNode = createNode(data);\n",
        "    newNode->next = *head;\n",
        "    *head = newNode;\n",
        "}\n",
        "```"
      ],
      "metadata": {
        "id": "z6cu6KECstJ_"
      }
    },
    {
      "cell_type": "markdown",
      "source": [
        "#### 6.1.2. Doubly-Linked List"
      ],
      "metadata": {
        "id": "z_lzC4rOsZVK"
      }
    },
    {
      "cell_type": "markdown",
      "source": [
        "A doubly linked list is a type of list, where each element is 'linked' the the previous and the next element in the list. The general form of this structure is:\n",
        "\n",
        "```\n",
        "// DLL = DoublyLInkedList\n",
        "\n",
        "struct DLLNode {\n",
        "  type data;\n",
        "  struct DLLNode* prev;\n",
        "  struct DLLNode* next;\n",
        "};\n",
        "\n",
        "struct DLLNode* createNode(type data) {\n",
        "  struct DLLNode* newNode = (struct DLLNode*)malloc(sizeof(struct DLLNode));\n",
        "  newNode->data = data;\n",
        "  newNode->prev = NULL;\n",
        "  newNode->next = NULL;\n",
        "  return newNode;\n",
        "}\n",
        "\n",
        "void insert(struct DLLNode* prev, struct DLLNode* next, type data) {\n",
        "  struct DLLNode* newNode = createNode(data);\n",
        "  newNode->prev = prev;\n",
        "  newNode->next = next;\n",
        "\n",
        "  if(prev != NULL) {\n",
        "    prev->next = newNode;\n",
        "  }\n",
        "  if(next != NULL) {\n",
        "    next->prev = newNode;\n",
        "  }\n",
        "}\n",
        "```"
      ],
      "metadata": {
        "id": "3QKNQ17ysZYh"
      }
    },
    {
      "cell_type": "markdown",
      "source": [
        "#### 6.1.3. Stack"
      ],
      "metadata": {
        "id": "J5Km5ai2sZbY"
      }
    },
    {
      "cell_type": "markdown",
      "source": [
        "##### 6.1.3.1. Statically Allocated Stack"
      ],
      "metadata": {
        "id": "de8WjcigBTid"
      }
    },
    {
      "cell_type": "markdown",
      "source": [
        "A stack is a data structure that supports Last-In First-Out memory access.\n",
        "\n",
        "When a stack's memory is *pre-allocated* and *static*, the implementation is straightforward:\n",
        "\n",
        "```\n",
        "//Static Stack Implementation\n",
        "\n",
        "#define MAX someNum\n",
        "\n",
        "struct Stack {\n",
        "  type objects[MAX];\n",
        "  int top;\n",
        "};\n",
        "\n",
        "void initStack(struct Stack* stack) {\n",
        "  stack->top = -1;\n",
        "}\n",
        "\n",
        "int isFull(struct Stack* stack) {\n",
        "    return stack->top == MAX - 1;\n",
        "}\n",
        "\n",
        "int isEmpty(struct Stack* stack) {\n",
        "    return stack->top == -1;\n",
        "}\n",
        "\n",
        "void push(struct Stack* stack, type data) {\n",
        "  if (isFull(stack)) {\n",
        "    //full\n",
        "    return;\n",
        "  }\n",
        "  stack->objects[++stack->top] = data;\n",
        "}\n",
        "\n",
        "int pop(struct Stack* stack) {\n",
        "  if (isEmpty(stack)) {\n",
        "    //empty\n",
        "    return -1;\n",
        "  }\n",
        "  return stack->objects[stack->top--];\n",
        "}\n",
        "\n",
        "int peek(struct Stack* stack) {\n",
        "  if (isEmpty(stack)) {\n",
        "    //can't peek\n",
        "    return -1;\n",
        "  }\n",
        "  return stack->arr[stack->top];\n",
        "}\n",
        "```"
      ],
      "metadata": {
        "id": "6JPkqDG9sZd1"
      }
    },
    {
      "cell_type": "markdown",
      "source": [
        "##### 6.1.3.2. Dynamically Allocated Stack"
      ],
      "metadata": {
        "id": "YHwhP2-7BciW"
      }
    },
    {
      "cell_type": "markdown",
      "source": [
        "A stack with *dynamically-allocated* memory is a unique implementation of a Singly-Linked List:\n",
        "\n",
        "```\n",
        "//Dynamic Stack Implementation\n",
        "\n",
        "struct StackNode {\n",
        "  type data;\n",
        "  struct StackNode* prev;\n",
        "};\n",
        "\n",
        "struct StackNode* createNode(type data) {\n",
        "    struct StackNode* newNode = (struct StackNode*)malloc(sizeof(struct StackNode));\n",
        "    if (!newNode) {\n",
        "        printf(\"Memory allocation failed\\n\");\n",
        "        exit(1); // Exit if memory allocation fails\n",
        "    }\n",
        "    newNode->data = data;\n",
        "    newNode->prev = NULL;\n",
        "    return newNode;\n",
        "}\n",
        "\n",
        "struct Stack {\n",
        "    int nodes;\n",
        "    int maxNodes;\n",
        "    struct StackNode* top;\n",
        "};\n",
        "\n",
        "struct Stack* createStack(int maxNodes) {\n",
        "    struct Stack* stack = (struct Stack*)malloc(sizeof(struct Stack));\n",
        "    if (!stack) {\n",
        "        printf(\"Memory allocation failed\\n\");\n",
        "        exit(1); // Exit if memory allocation fails\n",
        "    }\n",
        "    stack->nodes = 0;\n",
        "    stack->maxNodes = maxNodes;\n",
        "    stack->top = NULL;\n",
        "    return stack;\n",
        "}\n",
        "\n",
        "void push(struct Stack* stack, type data) {\n",
        "    if (stack->nodes >= stack->maxNodes) {\n",
        "        printf(\"Stack is full\\n\");\n",
        "        return;\n",
        "    }\n",
        "    struct StackNode* newNode = createNode(data);\n",
        "    newNode->prev = stack->top;\n",
        "    stack->top = newNode;\n",
        "    stack->nodes++;\n",
        "}\n",
        "\n",
        "type pop(struct Stack* stack) {\n",
        "    if (stack->top == NULL) {\n",
        "        printf(\"Stack underflow\\n\");\n",
        "        exit(1); // Exit if stack is empty\n",
        "    }\n",
        "    struct StackNode* temp = stack->top;\n",
        "    type poppedData = temp->data;\n",
        "    stack->top = stack->top->prev;\n",
        "    stack->nodes--;\n",
        "    free(temp);\n",
        "    return poppedData;\n",
        "}\n",
        "\n",
        "int isEmpty(struct Stack* stack) {\n",
        "    return stack->top == NULL;\n",
        "}\n",
        "\n",
        "int isFull(struct Stack* stack) {\n",
        "    return stack->nodes >= stack->maxNodes;\n",
        "}\n",
        "\n",
        "```"
      ],
      "metadata": {
        "id": "kwG7XYchBl8d"
      }
    },
    {
      "cell_type": "markdown",
      "source": [
        "#### 6.1.4. Queue"
      ],
      "metadata": {
        "id": "FiCAe9zvsvrU"
      }
    },
    {
      "cell_type": "markdown",
      "source": [
        "##### 6.1.4.1. Statically Allocated Stack"
      ],
      "metadata": {
        "id": "xcZIZCZXOKQL"
      }
    },
    {
      "cell_type": "markdown",
      "source": [
        "A queue is a data structure that supports First-In First-Out memory access.\n",
        "\n",
        "When a queue's memory is *pre-allocated* and *static*, the implementation is straightforward:\n",
        "\n",
        "```\n",
        "//Static Queue Implementation\n",
        "\n",
        "#define MAX someNum\n",
        "\n",
        "struct Queue {\n",
        "  type objects[MAX];\n",
        "  int front;\n",
        "  int rear;\n",
        "};\n",
        "\n",
        "void initQueue(struct Queue* queue) {\n",
        "  queue->front = -1;\n",
        "  queue->rear = -1;\n",
        "}\n",
        "\n",
        "int isFull(struct Queue* queue) {\n",
        "    return (queue->rear-queue->front) == MAX-1;\n",
        "}\n",
        "\n",
        "int isEmpty(struct Queue* queue) {\n",
        "    return queue->front == -1 || queue->front == queue->rear;\n",
        "}\n",
        "\n",
        "void enqueue(struct Queue* queue, type data) {\n",
        "  if (isFull(queue)) {\n",
        "    return;\n",
        "  }\n",
        "  queue->rear = (queue->rear + 1)%MAX;\n",
        "  queue->objects[queue->rear] = data;\n",
        "}\n",
        "\n",
        "int dequeue(struct Queue* queue) {\n",
        "  if (isEmpty(queue)) {\n",
        "    return -1;\n",
        "  }\n",
        "  queue->rear = (queue->rear - 1)%MAX;\n",
        "  return queue->objects[queue->rear + 1];\n",
        "}\n",
        "\n",
        "int front(struct Queue* queue) {\n",
        "  if (isEmpty(queue)) {\n",
        "    return -1;\n",
        "  }\n",
        "  return queue->arr[queue->front];\n",
        "}\n",
        "\n",
        "int rear(struct Queue* queue) {\n",
        "  if (isEmpty(queue)) {\n",
        "    return -1;\n",
        "  }\n",
        "  return queue->arr[queue->rear];\n",
        "}\n",
        "```\n"
      ],
      "metadata": {
        "id": "B79d-5pxsvtx"
      }
    },
    {
      "cell_type": "markdown",
      "source": [
        "##### 6.1.4.2. Dynamically Allocated Stack"
      ],
      "metadata": {
        "id": "dlyxxwHPOShq"
      }
    },
    {
      "cell_type": "markdown",
      "source": [
        "A queue with *dynamically-allocated* memory is a unique implementation of a Singly-Linked List:\n",
        "\n",
        "```\n",
        "//Dynamic Queue Implementation\n",
        "\n",
        "struct QueueNode {\n",
        "    type data;\n",
        "    struct QueueNode* next;\n",
        "};\n",
        "\n",
        "struct QueueNode* createNode(type data) {\n",
        "    struct QueueNode* newNode = (struct QueueNode*)malloc(sizeof(struct QueueNode));\n",
        "    if (!newNode) {\n",
        "        printf(\"Memory allocation failed\\n\");\n",
        "        exit(1); // Exit if memory allocation fails\n",
        "    }\n",
        "    newNode->data = data;\n",
        "    newNode->next = NULL;\n",
        "    return newNode;\n",
        "}\n",
        "\n",
        "struct Queue {\n",
        "    struct QueueNode* front;\n",
        "    struct QueueNode* rear;\n",
        "    int size;       // To keep track of the number of elements in the queue\n",
        "    int maxSize;    // To define the maximum size of the queue\n",
        "};\n",
        "\n",
        "struct Queue* createQueue(int maxSize) {\n",
        "    struct Queue* queue = (struct Queue*)malloc(sizeof(struct Queue));\n",
        "    if (!queue) {\n",
        "        printf(\"Memory allocation failed\\n\");\n",
        "        exit(1); // Exit if memory allocation fails\n",
        "    }\n",
        "    queue->front = queue->rear = NULL;\n",
        "    queue->size = 0;\n",
        "    queue->maxSize = maxSize;\n",
        "    return queue;\n",
        "}\n",
        "\n",
        "void enqueue(struct Queue* queue, type data) {\n",
        "    if (queue->size >= queue->maxSize) {\n",
        "        printf(\"Queue is full\\n\");\n",
        "        return;\n",
        "    }\n",
        "    struct QueueNode* newNode = createNode(data);\n",
        "    if (queue->rear == NULL) {\n",
        "        queue->front = queue->rear = newNode;\n",
        "    } else {\n",
        "        queue->rear->next = newNode;\n",
        "        queue->rear = newNode;\n",
        "    }\n",
        "    queue->size++; // Increment size\n",
        "}\n",
        "\n",
        "type dequeue(struct Queue* queue) {\n",
        "    if (queue->front == NULL) {\n",
        "        printf(\"Queue underflow\\n\");\n",
        "        exit(1); // Exit if queue is empty\n",
        "    }\n",
        "    struct QueueNode* temp = queue->front;\n",
        "    type dequeuedData = temp->data;\n",
        "    queue->front = queue->front->next;\n",
        "    if (queue->front == NULL) {\n",
        "        queue->rear = NULL;\n",
        "    }\n",
        "    free(temp);\n",
        "    queue->size--; // Decrement size\n",
        "    return dequeuedData;\n",
        "}\n",
        "\n",
        "int isEmpty(struct Queue* queue) {\n",
        "    return queue->front == NULL;\n",
        "}\n",
        "\n",
        "int isFull(struct Queue* queue) {\n",
        "    return queue->size >= queue->maxSize;\n",
        "}\n",
        "```"
      ],
      "metadata": {
        "id": "KJPHxNOZOZLG"
      }
    },
    {
      "cell_type": "markdown",
      "source": [
        "### 6.2. Trees"
      ],
      "metadata": {
        "id": "1LaFgOPbPhO-"
      }
    },
    {
      "cell_type": "markdown",
      "source": [
        "A tree is a different data structure which is typically organized to have a *parent-child* relationship (linked lists are special cases where only 1 child is possible)."
      ],
      "metadata": {
        "id": "L27UkeLLPloB"
      }
    },
    {
      "cell_type": "markdown",
      "source": [
        "#### 6.2.1. Binary Search Tree"
      ],
      "metadata": {
        "id": "uW8zeAK8RZcF"
      }
    },
    {
      "cell_type": "markdown",
      "source": [
        "A binary tree is a kind of tree where each parent node (or root node) has 2 associated children nodes (leaves).\n",
        "\n",
        "A Binary Search Tree follows the rules:\n",
        "\n",
        "*If potential child <= parent, it can be the left child - if left child exists, try to become child of left child*\n",
        "\n",
        "*If potential child > parent, it can be the right child - if right child exists, try to become child of right child*\n",
        "\n",
        "Let's see how to implement this:\n",
        "\n",
        "```\n",
        "struct TreeNode {\n",
        "    int data;\n",
        "    struct TreeNode* left;\n",
        "    struct TreeNode* right;\n",
        "};\n",
        "\n",
        "struct TreeNode* createNode(int data) {\n",
        "    struct TreeNode* newNode = (struct TreeNode*)malloc(sizeof(struct TreeNode));\n",
        "    if (!newNode) {\n",
        "        printf(\"Memory allocation failed\\n\");\n",
        "        exit(1); // Exit if memory allocation fails\n",
        "    }\n",
        "    newNode->data = data;\n",
        "    newNode->left = NULL;\n",
        "    newNode->right = NULL;\n",
        "    return newNode;\n",
        "}\n",
        "\n",
        "struct TreeNode* insertNode(struct TreeNode* root, int data) {\n",
        "    // If the tree is empty, return a new node\n",
        "    if (root == NULL) {\n",
        "        root = createNode(data);\n",
        "        return root;\n",
        "    }\n",
        "\n",
        "    // Otherwise, recur down the tree\n",
        "    if (data < root->data) {\n",
        "        root->left = insertNode(root->left, data);\n",
        "    } else if (data > root->data) {\n",
        "        root->right = insertNode(root->right, data);\n",
        "    }\n",
        "\n",
        "    // Return the (unchanged) node pointer\n",
        "    return root;\n",
        "}\n",
        "```"
      ],
      "metadata": {
        "id": "Z1TxMjOoRjxT"
      }
    },
    {
      "cell_type": "markdown",
      "source": [
        "#### 6.2.2. Max/Min Heap"
      ],
      "metadata": {
        "id": "ZILo9-jpSGcF"
      }
    },
    {
      "cell_type": "markdown",
      "source": [
        "A Max Heap follows the rules:\n",
        "\n",
        "*Parent > Children*\n",
        "\n",
        "Let's see how to implement this:\n",
        "\n",
        "```\n",
        "// MaxHeap Implementation\n",
        "\n",
        "struct MaxHeap {\n",
        "    int *array;\n",
        "    int size;\n",
        "    int capacity;\n",
        "};\n",
        "\n",
        "// Function to create a max-heap\n",
        "struct MaxHeap* createMaxHeap(int capacity) {\n",
        "    struct MaxHeap* maxHeap = (struct MaxHeap*)malloc(sizeof(struct MaxHeap));\n",
        "    if (!maxHeap) {\n",
        "        printf(\"Memory allocation failed\\n\");\n",
        "        exit(1); // Exit if memory allocation fails\n",
        "    }\n",
        "    maxHeap->size = 0;\n",
        "    maxHeap->capacity = capacity;\n",
        "    maxHeap->array = (int*)malloc(capacity * sizeof(int));\n",
        "    if (!maxHeap->array) {\n",
        "        printf(\"Memory allocation failed\\n\");\n",
        "        exit(1); // Exit if memory allocation fails\n",
        "    }\n",
        "    return maxHeap;\n",
        "}\n",
        "\n",
        "// Function to swap two elements\n",
        "void swap(int *x, int *y) {\n",
        "    int temp = *x;\n",
        "    *x = *y;\n",
        "    *y = temp;\n",
        "}\n",
        "\n",
        "// Function to heapify the tree rooted at index\n",
        "void maxHeapify(struct MaxHeap* maxHeap, int index) {\n",
        "    int largest = index;\n",
        "    int left = 2 * index + 1;\n",
        "    int right = 2 * index + 2;\n",
        "\n",
        "    if (left < maxHeap->size && maxHeap->array[left] > maxHeap->array[largest])\n",
        "        largest = left;\n",
        "\n",
        "    if (right < maxHeap->size && maxHeap->array[right] > maxHeap->array[largest])\n",
        "        largest = right;\n",
        "\n",
        "    if (largest != index) {\n",
        "        swap(&maxHeap->array[largest], &maxHeap->array[index]);\n",
        "        maxHeapify(maxHeap, largest);\n",
        "    }\n",
        "}\n",
        "\n",
        "// Function to insert a new element in the max-heap\n",
        "void insertMaxHeap(struct MaxHeap* maxHeap, int value) {\n",
        "    if (maxHeap->size == maxHeap->capacity) {\n",
        "        printf(\"Heap overflow\\n\");\n",
        "        return;\n",
        "    }\n",
        "\n",
        "    maxHeap->size++;\n",
        "    int i = maxHeap->size - 1;\n",
        "    maxHeap->array[i] = value;\n",
        "\n",
        "    while (i != 0 && maxHeap->array[(i - 1) / 2] < maxHeap->array[i]) {\n",
        "        swap(&maxHeap->array[i], &maxHeap->array[(i - 1) / 2]);\n",
        "        i = (i - 1) / 2;\n",
        "    }\n",
        "}\n",
        "\n",
        "// Function to extract the maximum element (root) from the heap\n",
        "int extractMax(struct MaxHeap* maxHeap) {\n",
        "    if (maxHeap->size <= 0)\n",
        "        return INT_MIN;\n",
        "\n",
        "    if (maxHeap->size == 1) {\n",
        "        maxHeap->size--;\n",
        "        return maxHeap->array[0];\n",
        "    }\n",
        "\n",
        "    int root = maxHeap->array[0];\n",
        "    maxHeap->array[0] = maxHeap->array[maxHeap->size - 1];\n",
        "    maxHeap->size--;\n",
        "    maxHeapify(maxHeap, 0);\n",
        "\n",
        "    return root;\n",
        "}\n",
        "\n",
        "```"
      ],
      "metadata": {
        "id": "A6GMQ2bYSKof"
      }
    },
    {
      "cell_type": "markdown",
      "source": [
        "## 7. Files"
      ],
      "metadata": {
        "id": "-O_ymUAMGEsr"
      }
    },
    {
      "cell_type": "markdown",
      "source": [
        "### 7.0. Motivation"
      ],
      "metadata": {
        "id": "ASgzq2mfGMQK"
      }
    },
    {
      "cell_type": "markdown",
      "source": [
        "There are many reasons to need or want to use files - saving experimentation results or dealing with a database are 2 common usecases that are fundamental to R&D today."
      ],
      "metadata": {
        "id": "erSb2TCrGMS8"
      }
    },
    {
      "cell_type": "markdown",
      "source": [
        "### 7.1. File Operations"
      ],
      "metadata": {
        "id": "VxJLDWEKGMVU"
      }
    },
    {
      "cell_type": "markdown",
      "source": [
        "#### 7.1.1. Opening & Closing Files"
      ],
      "metadata": {
        "id": "vObLwJYeGMX-"
      }
    },
    {
      "cell_type": "markdown",
      "source": [
        "To open an existing file, there are a few modes for consideration:\n",
        "\n",
        "- \"r\": Open for reading. The file must exist.\n",
        "- \"w\": Open for writing. Creates a new file or truncates an existing file.\n",
        "- \"a\": Open for appending. Data is added to the end of the file.\n",
        "- \"r+\": Open for both reading and writing. The file must exist.\n",
        "- \"w+\": Open for both reading and writing. Creates a new file or truncates an existing file.\n",
        "- \"a+\": Open for both reading and writing. Data is added to the end of the file.\n",
        "\n",
        "The following is the syntax to open a file, and returns a file pointer:\n",
        "\n",
        "```\n",
        "FILE *fopen(const char *filename, const char *mode);\n",
        "```\n",
        "\n",
        "To close an opened file:\n",
        "\n",
        "```\n",
        "int fclose(FILE *file);\n",
        "```"
      ],
      "metadata": {
        "id": "bsqRe5grGMac"
      }
    },
    {
      "cell_type": "markdown",
      "source": [
        "#### 7.1.2. Reading from Files"
      ],
      "metadata": {
        "id": "CluVTGDuGMdD"
      }
    },
    {
      "cell_type": "markdown",
      "source": [
        "To read a character (8-bits/1-Byte) from a file:\n",
        "\n",
        "```\n",
        "int fgetc(FILE *file);\n",
        "\n",
        "```\n",
        "\n",
        "To read a string from a file:\n",
        "\n",
        "```\n",
        "char *fgets(char *str, int n, FILE *file);\n",
        "```\n",
        "\n",
        "To read file data into an array:\n",
        "\n",
        "```\n",
        "size_t fread(void *ptr, size_t size, size_t nmemb, FILE *file);\n",
        "```\n",
        "\n",
        "Example:\n",
        "\n",
        "```\n",
        "int buffer[10];\n",
        "FILE *file = fopen(\"example.bin\", \"rb\");\n",
        "if (file != NULL) {\n",
        "    fread(buffer, sizeof(int), 10, file);\n",
        "    fclose(file);\n",
        "}\n",
        "```"
      ],
      "metadata": {
        "id": "0VfdSuQHGMf7"
      }
    },
    {
      "cell_type": "markdown",
      "source": [
        "#### 7.1.3. Writing to Files"
      ],
      "metadata": {
        "id": "q1QY5HbiGMoK"
      }
    },
    {
      "cell_type": "markdown",
      "source": [
        "To write a character (8-bits/1-Byte) to a file:\n",
        "\n",
        "```\n",
        "int fputc(int char, FILE *file);\n",
        "```\n",
        "\n",
        "To write a string to a file:\n",
        "\n",
        "```\n",
        "int fputs(const char *str, FILE *file);\n",
        "```\n",
        "\n",
        "To write array data to a file:\n",
        "\n",
        "```\n",
        "size_t fwrite(const void *ptr, size_t size, size_t nmemb, FILE *file);\n",
        "```\n",
        "\n",
        "Example:\n",
        "\n",
        "```\n",
        "int buffer[10] = {0, 1, 2, 3, 4, 5, 6, 7, 8, 9};\n",
        "FILE *file = fopen(\"example.bin\", \"wb\");\n",
        "if (file != NULL) {\n",
        "    fwrite(buffer, sizeof(int), 10, file);\n",
        "    fclose(file);\n",
        "}\n",
        "```"
      ],
      "metadata": {
        "id": "BwK-6zvnGMqo"
      }
    },
    {
      "cell_type": "markdown",
      "source": [
        "## 8. Command Line"
      ],
      "metadata": {
        "id": "XwUg_MuFLwIT"
      }
    },
    {
      "cell_type": "markdown",
      "source": [
        "### 8.0. Motivation"
      ],
      "metadata": {
        "id": "R8S04v5HL1ai"
      }
    },
    {
      "cell_type": "markdown",
      "source": [
        "On many occassions, it's desireable to use command-line arguments and C functionality from the terminal."
      ],
      "metadata": {
        "id": "CJVOWzjqR1Zo"
      }
    },
    {
      "cell_type": "markdown",
      "source": [
        "### 8.1. Command-line Arguments"
      ],
      "metadata": {
        "id": "Mls6BdK9R1cP"
      }
    },
    {
      "cell_type": "markdown",
      "source": [
        "Arguments are passed to the 'main' function as parameters:\n",
        "\n",
        "```\n",
        "int main(int argc, char *argv[]) {\n",
        "    // argc: Argument count\n",
        "    // argv: Argument vector (array of strings)\n",
        "}\n",
        "\n",
        "```\n",
        "\n",
        "Example:\n",
        "\n",
        "```\n",
        "int main(int argc, char *argv[]) {\n",
        "    printf(\"Number of arguments: %d\\n\", argc);\n",
        "    for (int i = 0; i < argc; i++) {\n",
        "        printf(\"Argument %d: %s\\n\", i, argv[i]);\n",
        "    }\n",
        "    return 0;\n",
        "}\n",
        "```\n",
        "\n",
        "Usage in Terminal:\n",
        "\n",
        "```\n",
        "./program arg1 arg2 arg3\n",
        "```\n"
      ],
      "metadata": {
        "id": "4__IkRJOR1ew"
      }
    }
  ]
}